{
 "cells": [
  {
   "cell_type": "markdown",
   "metadata": {},
   "source": []
  },
  {
   "cell_type": "code",
   "execution_count": 2,
   "metadata": {},
   "outputs": [],
   "source": [
    "# Importing some important libraries\n",
    "from rdkit import Chem\n",
    "import rdkit\n",
    "import pandas as pd\n",
    "from types import NoneType\n",
    "from IPython.utils import io"
   ]
  },
  {
   "cell_type": "code",
   "execution_count": 3,
   "metadata": {},
   "outputs": [],
   "source": [
    "# Reading an archive .sdf in python\n",
    "dsMol = Chem.SDMolSupplier('structures.sdf')"
   ]
  },
  {
   "cell_type": "code",
   "execution_count": 13,
   "metadata": {},
   "outputs": [],
   "source": [
    "DB_ID = []\n",
    "SMILES_Struct = []\n",
    "Mol_wheight = []\n",
    "Chem_LogP = []\n",
    "Acceptors_Num = []\n",
    "Donors_Num = []\n",
    "Formula = []\n",
    "Rotatables_Count = []\n",
    "Rings_Num = []\n",
    "Total_PSA = []\n",
    "index_list = []\n",
    "\n",
    "column_names = [\"DataBase ID\",\n",
    "                \"SMILES\",\n",
    "                \"Mol Weight\",\n",
    "                \"Chemical LogP\",\n",
    "                \"Acceptors Number\",\n",
    "                \"Donors Number\",\n",
    "                \"Formula\",\n",
    "                \"Rotatables Count\",\n",
    "                \"Rings Number\",\n",
    "                \"Total PSA\"]"
   ]
  },
  {
   "cell_type": "code",
   "execution_count": 16,
   "metadata": {},
   "outputs": [
    {
     "name": "stdout",
     "output_type": "stream",
     "text": [
      "O elemento num 825 não tem um dos elementos mandatórios\n",
      "O elemento num 994 não tem um dos elementos mandatórios\n",
      "O elemento num 1037 não tem um dos elementos mandatórios\n",
      "O elemento num 1038 não tem um dos elementos mandatórios\n",
      "O elemento num 1064 não tem um dos elementos mandatórios\n",
      "O elemento num 1317 não tem um dos elementos mandatórios\n",
      "O elemento num 1744 não tem um dos elementos mandatórios\n",
      "O elemento num 1758 não tem um dos elementos mandatórios\n",
      "O elemento num 1963 não tem um dos elementos mandatórios\n",
      "O elemento num 2595 não tem um dos elementos mandatórios\n",
      "O elemento num 38276 não tem um dos elementos mandatórios\n"
     ]
    }
   ],
   "source": [
    "# %%capture\n",
    "#\n",
    "# Adicionar outras listas além do Atom_list\n",
    "#\n",
    "\n",
    "def myFunction():\n",
    "    with io.capture_output() as captured:\n",
    "        if type(dsMol[x]) != NoneType:\n",
    "            DB_ID.append(dsMol[x].GetProp(\"DATABASE_ID\"))\n",
    "            SMILES_Struct.append(dsMol[x].GetProp(\"SMILES\"))\n",
    "            Mol_wheight.append(dsMol[x].GetProp(\"MOLECULAR_WEIGHT\"))\n",
    "            Chem_LogP.append(dsMol[x].GetProp(\"JCHEM_LOGP\"))\n",
    "            Acceptors_Num.append(dsMol[x].GetProp(\"JCHEM_ACCEPTOR_COUNT\"))\n",
    "            Donors_Num.append(dsMol[x].GetProp(\"JCHEM_DONOR_COUNT\"))\n",
    "            Formula.append(dsMol[x].GetProp(\"FORMULA\"))\n",
    "            Rotatables_Count.append(dsMol[x].GetProp(\"JCHEM_ROTATABLE_BOND_COUNT\"))\n",
    "            Rings_Num.append(dsMol[x].GetProp(\"JCHEM_NUMBER_OF_RINGS\"))\n",
    "            Total_PSA.append(dsMol[x].GetProp(\"JCHEM_POLAR_SURFACE_AREA\"))      \n",
    "        else:\n",
    "        # print(x, type(dsMol[x]))\n",
    "            pass\n",
    "\n",
    "index_guide = 0\n",
    "\n",
    "for x in range(len(dsMol)):\n",
    "    try:\n",
    "        myFunction()\n",
    "        if myFunction():\n",
    "            index_list.append(index_guide)\n",
    "            index_guide += 1 \n",
    "    except: \n",
    "        print(f\"O elemento num {x} não tem um dos elementos mandatórios\")\n",
    "        \n",
    "        "
   ]
  },
  {
   "cell_type": "code",
   "execution_count": null,
   "metadata": {},
   "outputs": [],
   "source": [
    "index_list"
   ]
  },
  {
   "cell_type": "code",
   "execution_count": 8,
   "metadata": {},
   "outputs": [
    {
     "data": {
      "text/plain": [
       "rdkit.Chem.rdchem.Mol"
      ]
     },
     "execution_count": 8,
     "metadata": {},
     "output_type": "execute_result"
    }
   ],
   "source": [
    "type(dsMol[994])\n"
   ]
  },
  {
   "cell_type": "code",
   "execution_count": 9,
   "metadata": {},
   "outputs": [
    {
     "data": {
      "image/png": "[encoded data removed]",
      "text/html": [
       "<table><tr><td colspan=2 style=\"text-align:center\"><image src=\"data:image/png;base64,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\"></td></tr>\n",
       "<tr><th style=\"text-align:right\">DATABASE_ID</th><td style=\"text-align:left\">BMDB0001304</td></tr>\n",
       "<tr><th style=\"text-align:right\">DATABASE_NAME</th><td style=\"text-align:left\">bmdb</td></tr>\n",
       "<tr><th style=\"text-align:right\">SMILES</th><td style=\"text-align:left\">COC1=C(O)C(C)=C(C\\C=C(/C)CCC=C(C)C)C(O)=C1OC</td></tr>\n",
       "<tr><th style=\"text-align:right\">INCHI_IDENTIFIER</th><td style=\"text-align:left\">InChI=1S/C19H28O4/c1-12(2)8-7-9-13(3)10-11-15-14(4)16(20)18(22-5)19(23-6)17(15)21/h8,10,20-21H,7,9,11H2,1-6H3/b13-10+</td></tr>\n",
       "<tr><th style=\"text-align:right\">INCHI_KEY</th><td style=\"text-align:left\">RNUCUWWMTTWKAH-JLHYYAGUSA-N</td></tr>\n",
       "<tr><th style=\"text-align:right\">FORMULA</th><td style=\"text-align:left\">(C5H8)nC14H20O4</td></tr>\n",
       "<tr><th style=\"text-align:right\">JCHEM_FORMAL_CHARGE</th><td style=\"text-align:left\">0</td></tr>\n",
       "<tr><th style=\"text-align:right\">JCHEM_GHOSE_FILTER</th><td style=\"text-align:left\">0</td></tr>\n",
       "<tr><th style=\"text-align:right\">ALOGPS_LOGP</th><td style=\"text-align:left\">4.41</td></tr>\n",
       "<tr><th style=\"text-align:right\">ALOGPS_LOGS</th><td style=\"text-align:left\">-4.41</td></tr>\n",
       "<tr><td colspan=2 style=\"text-align:center\">Property list truncated.<br />Increase IPythonConsole.ipython_maxProperties (or set it to -1) to see more properties.</td></tr></table>"
      ],
      "text/plain": [
       "<rdkit.Chem.rdchem.Mol at 0x1d3830d2320>"
      ]
     },
     "execution_count": 9,
     "metadata": {},
     "output_type": "execute_result"
    }
   ],
   "source": [
    "dsMol[994]"
   ]
  },
  {
   "cell_type": "code",
   "execution_count": 10,
   "metadata": {},
   "outputs": [
    {
     "ename": "NameError",
     "evalue": "name 'Atom_list' is not defined",
     "output_type": "error",
     "traceback": [
      "\u001b[1;31m---------------------------------------------------------------------------\u001b[0m",
      "\u001b[1;31mNameError\u001b[0m                                 Traceback (most recent call last)",
      "Cell \u001b[1;32mIn [10], line 1\u001b[0m\n\u001b[1;32m----> 1\u001b[0m df1 \u001b[38;5;241m=\u001b[39m pd\u001b[38;5;241m.\u001b[39mDataFrame(index \u001b[38;5;241m=\u001b[39m index_list, data \u001b[38;5;241m=\u001b[39m \u001b[43mAtom_list\u001b[49m, columns\u001b[38;5;241m=\u001b[39m column_names)\n\u001b[0;32m      2\u001b[0m \u001b[38;5;28mprint\u001b[39m(df1)\n",
      "\u001b[1;31mNameError\u001b[0m: name 'Atom_list' is not defined"
     ]
    }
   ],
   "source": [
    "df1 = pd.DataFrame(index = index_list, data = Atom_list, columns= column_names)\n",
    "print(df1)"
   ]
  },
  {
   "cell_type": "code",
   "execution_count": null,
   "metadata": {},
   "outputs": [
    {
     "data": {
      "text/plain": [
       "'81.14000000000001'"
      ]
     },
     "execution_count": 51,
     "metadata": {},
     "output_type": "execute_result"
    }
   ],
   "source": [
    "m.GetProp(\"DATABASE_ID\")\n",
    "m.GetProp(\"SMILES\")\n",
    "m.GetProp(\"MOLECULAR_WEIGHT\")\n",
    "m.GetProp(\"JCHEM_LOGP\")\n",
    "m.GetProp(\"JCHEM_ACCEPTOR_COUNT\")\n",
    "m.GetProp(\"JCHEM_DONOR_COUNT\")\n",
    "m.GetProp(\"FORMULA\")\n",
    "m.GetProp(\"JCHEM_ROTATABLE_BOND_COUNT\")\n",
    "m.GetProp(\"JCHEM_NUMBER_OF_RINGS\")\n",
    "m.GetProp(\"JCHEM_POLAR_SURFACE_AREA\")"
   ]
  },
  {
   "cell_type": "code",
   "execution_count": null,
   "metadata": {},
   "outputs": [],
   "source": [
    "m = dsMol[700]\n",
    "m.GetPropsAsDict()"
   ]
  },
  {
   "cell_type": "code",
   "execution_count": null,
   "metadata": {},
   "outputs": [],
   "source": [
    "GetAtomicNum(dsMol[0].get())"
   ]
  }
 ],
 "metadata": {
  "kernelspec": {
   "display_name": "Python 3.10.6 64-bit",
   "language": "python",
   "name": "python3"
  },
  "language_info": {
   "codemirror_mode": {
    "name": "ipython",
    "version": 3
   },
   "file_extension": ".py",
   "mimetype": "text/x-python",
   "name": "python",
   "nbconvert_exporter": "python",
   "pygments_lexer": "ipython3",
   "version": "3.10.6"
  },
  "orig_nbformat": 4,
  "vscode": {
   "interpreter": {
    "hash": "c453250435e10cff66b2a8c67ad640328f149593ad4837f533efbfbc5ede14b8"
   }
  }
 },
 "nbformat": 4,
 "nbformat_minor": 2
}
