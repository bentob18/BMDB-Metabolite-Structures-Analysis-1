{
 "cells": [
  {
   "cell_type": "markdown",
   "metadata": {},
   "source": []
  },
  {
   "cell_type": "code",
   "execution_count": 8,
   "metadata": {},
   "outputs": [],
   "source": [
    "# Importing some important libraries\n",
    "from rdkit import Chem\n",
    "import rdkit\n",
    "import pandas as pd\n",
    "# from types import NoneType\n",
    "from IPython.utils import io"
   ]
  },
  {
   "cell_type": "code",
   "execution_count": 9,
   "metadata": {},
   "outputs": [],
   "source": [
    "# Reading an archive .sdf in python\n",
    "dsMol = Chem.SDMolSupplier('structures.sdf')"
   ]
  },
  {
   "cell_type": "code",
   "execution_count": 45,
   "metadata": {},
   "outputs": [],
   "source": [
    "DB_ID = []\n",
    "SMILES_Struct = []\n",
    "Mol_wheight = []\n",
    "Chem_LogP = []\n",
    "Acceptors_Num = []\n",
    "Donors_Num = []\n",
    "Formula = []\n",
    "Rotatables_Count = []\n",
    "Rings_Num = []\n",
    "Total_PSA = []\n",
    "index_list = []\n",
    "\n",
    "column_names = [\"DataBase ID\",\n",
    "                \"SMILES\",\n",
    "                \"Mol Weight\",\n",
    "                \"Chemical LogP\",\n",
    "                \"Acceptors Number\",\n",
    "                \"Donors Number\",\n",
    "                \"Formula\",\n",
    "                \"Rotatables Count\",\n",
    "                \"Rings Number\",\n",
    "                \"Total PSA\"]"
   ]
  },
  {
   "cell_type": "code",
   "execution_count": 46,
   "metadata": {},
   "outputs": [],
   "source": [
    "#\n",
    "# RESOLVER: DB_ID NÃO TEM O MESMO TAMANHO DA INDEX_LIST\n",
    "#\n",
    "\n",
    "\n",
    "def myFunction():\n",
    "    with io.capture_output() as captured:\n",
    "        if type(dsMol[x]) != type(None):\n",
    "            DB_ID.append(dsMol[x].GetProp(\"DATABASE_ID\"))\n",
    "            SMILES_Struct.append(dsMol[x].GetProp(\"SMILES\"))\n",
    "            Mol_wheight.append(dsMol[x].GetProp(\"MOLECULAR_WEIGHT\"))\n",
    "            # Chem_LogP.append(dsMol[x].GetProp(\"JCHEM_LOGP\"))\n",
    "            # Acceptors_Num.append(dsMol[x].GetProp(\"JCHEM_ACCEPTOR_COUNT\"))\n",
    "            # Donors_Num.append(dsMol[x].GetProp(\"JCHEM_DONOR_COUNT\"))\n",
    "            # Formula.append(dsMol[x].GetProp(\"FORMULA\"))\n",
    "            # Rotatables_Count.append(dsMol[x].GetProp(\"JCHEM_ROTATABLE_BOND_COUNT\"))\n",
    "            # Rings_Num.append(dsMol[x].GetProp(\"JCHEM_NUMBER_OF_RINGS\"))\n",
    "            # Total_PSA.append(dsMol[x].GetProp(\"JCHEM_POLAR_SURFACE_AREA\"))    \n",
    "            return True  \n",
    "        else:\n",
    "            print(x, type(dsMol[x]))\n",
    "            return False            \n",
    "\n",
    "index_guide = 0\n",
    "\n",
    "for x in range(1001):\n",
    "    try:\n",
    "        if myFunction():\n",
    "            index_list.append(index_guide)\n",
    "            index_guide += 1 \n",
    "    except: \n",
    "        print(f\"O elemento num {x} não tem um dos elementos mandatórios\")\n",
    "\n",
    "        \n",
    "        "
   ]
  },
  {
   "cell_type": "code",
   "execution_count": null,
   "metadata": {},
   "outputs": [],
   "source": [
    "DB_ID"
   ]
  },
  {
   "cell_type": "code",
   "execution_count": 8,
   "metadata": {},
   "outputs": [
    {
     "data": {
      "text/plain": [
       "rdkit.Chem.rdchem.Mol"
      ]
     },
     "execution_count": 8,
     "metadata": {},
     "output_type": "execute_result"
    }
   ],
   "source": [
    "type(dsMol[994])\n"
   ]
  },
  {
   "cell_type": "code",
   "execution_count": null,
   "metadata": {},
   "outputs": [],
   "source": [
    "dsMol[4]"
   ]
  },
  {
   "cell_type": "code",
   "execution_count": 49,
   "metadata": {},
   "outputs": [
    {
     "data": {
      "text/plain": [
       "999"
      ]
     },
     "execution_count": 49,
     "metadata": {},
     "output_type": "execute_result"
    }
   ],
   "source": [
    "len(index_list)"
   ]
  },
  {
   "cell_type": "code",
   "execution_count": null,
   "metadata": {},
   "outputs": [],
   "source": [
    "df1 = pd.DataFrame(DB_ID, index = index_list, columns= column_names)\n",
    "print(df1)"
   ]
  },
  {
   "cell_type": "code",
   "execution_count": null,
   "metadata": {},
   "outputs": [
    {
     "data": {
      "text/plain": [
       "'81.14000000000001'"
      ]
     },
     "execution_count": 51,
     "metadata": {},
     "output_type": "execute_result"
    }
   ],
   "source": [
    "m.GetProp(\"DATABASE_ID\")\n",
    "m.GetProp(\"SMILES\")\n",
    "m.GetProp(\"MOLECULAR_WEIGHT\")\n",
    "m.GetProp(\"JCHEM_LOGP\")\n",
    "m.GetProp(\"JCHEM_ACCEPTOR_COUNT\")\n",
    "m.GetProp(\"JCHEM_DONOR_COUNT\")\n",
    "m.GetProp(\"FORMULA\")\n",
    "m.GetProp(\"JCHEM_ROTATABLE_BOND_COUNT\")\n",
    "m.GetProp(\"JCHEM_NUMBER_OF_RINGS\")\n",
    "m.GetProp(\"JCHEM_POLAR_SURFACE_AREA\")"
   ]
  },
  {
   "cell_type": "code",
   "execution_count": null,
   "metadata": {},
   "outputs": [],
   "source": [
    "m = dsMol[700]\n",
    "m.GetPropsAsDict()"
   ]
  },
  {
   "cell_type": "code",
   "execution_count": null,
   "metadata": {},
   "outputs": [],
   "source": [
    "GetAtomicNum(dsMol[0].get())"
   ]
  }
 ],
 "metadata": {
  "kernelspec": {
   "display_name": "Python 3.9.7 ('base')",
   "language": "python",
   "name": "python3"
  },
  "language_info": {
   "codemirror_mode": {
    "name": "ipython",
    "version": 3
   },
   "file_extension": ".py",
   "mimetype": "text/x-python",
   "name": "python",
   "nbconvert_exporter": "python",
   "pygments_lexer": "ipython3",
   "version": "3.9.7"
  },
  "orig_nbformat": 4,
  "vscode": {
   "interpreter": {
    "hash": "ad2bdc8ecc057115af97d19610ffacc2b4e99fae6737bb82f5d7fb13d2f2c186"
   }
  }
 },
 "nbformat": 4,
 "nbformat_minor": 2
}
