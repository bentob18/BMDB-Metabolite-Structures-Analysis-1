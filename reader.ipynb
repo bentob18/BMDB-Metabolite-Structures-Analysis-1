{
 "cells": [
  {
   "cell_type": "code",
   "execution_count": 1,
   "metadata": {},
   "outputs": [],
   "source": [
    "#reading an archive in python\n",
    "from rdkit import Chem\n",
    "import rdkit\n",
    "import pandas as pd"
   ]
  },
  {
   "cell_type": "code",
   "execution_count": 2,
   "metadata": {},
   "outputs": [],
   "source": [
    "dsMol = Chem.SDMolSupplier('structures.sdf')"
   ]
  },
  {
   "cell_type": "code",
   "execution_count": null,
   "metadata": {},
   "outputs": [],
   "source": [
    "Atom_list = []\n",
    "index_list = []\n",
    "column_names = [\"Atom_num\"]\n",
    "\n",
    "index_guide = 0\n",
    "for x in range(len(dsMol)):\n",
    "    if dsMol[x] is not None:\n",
    "        Atom_list.append(dsMol[x].GetNumAtoms())\n",
    "        index_list.append(index_guide)\n",
    "        index_guide +=1\n",
    "        \n",
    "    elif dsMol[x] is None:\n",
    "        valor_falso = x\n",
    "        print(valor_falso)\n",
    "        pass"
   ]
  },
  {
   "cell_type": "code",
   "execution_count": 12,
   "metadata": {},
   "outputs": [],
   "source": [
    "df1 = pd.DataFrame(index = index_list, data = Atom_list, columns= column_names)"
   ]
  },
  {
   "cell_type": "code",
   "execution_count": null,
   "metadata": {},
   "outputs": [],
   "source": [
    "pd.set_option('display.max_rows', None)\n",
    "print(df1)"
   ]
  }
 ],
 "metadata": {
  "kernelspec": {
   "display_name": "Python 3.10.6 64-bit",
   "language": "python",
   "name": "python3"
  },
  "language_info": {
   "codemirror_mode": {
    "name": "ipython",
    "version": 3
   },
   "file_extension": ".py",
   "mimetype": "text/x-python",
   "name": "python",
   "nbconvert_exporter": "python",
   "pygments_lexer": "ipython3",
   "version": "3.10.6"
  },
  "orig_nbformat": 4,
  "vscode": {
   "interpreter": {
    "hash": "c453250435e10cff66b2a8c67ad640328f149593ad4837f533efbfbc5ede14b8"
   }
  }
 },
 "nbformat": 4,
 "nbformat_minor": 2
}
