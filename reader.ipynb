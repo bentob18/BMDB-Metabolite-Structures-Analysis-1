{
 "cells": [
  {
   "cell_type": "code",
   "execution_count": 1,
   "metadata": {},
   "outputs": [],
   "source": [
    "#reading an archive in python\n",
    "from rdkit import Chem\n",
    "import rdkit\n",
    "import pandas as pd"
   ]
  },
  {
   "cell_type": "code",
   "execution_count": 2,
   "metadata": {},
   "outputs": [],
   "source": [
    "dsMol = Chem.SDMolSupplier('structures.sdf')"
   ]
  },
  {
   "cell_type": "code",
   "execution_count": null,
   "metadata": {},
   "outputs": [],
   "source": [
    "Atom_list = []\n",
    "index_list = []\n",
    "column_names = [\"Atom_num\"]\n",
    "\n",
    "index_guide = 0\n",
    "for x in range(len(dsMol)):\n",
    "    if dsMol[x] is NoneTyp:\n",
    "        pass\n",
    "        valor_falso = x\n",
    "        print(valor_falso)\n",
    "    else:\n",
    "        Atom_list.append(dsMol[x].GetProp(\"DATABASE_ID\"))\n",
    "        Atom_list.append(dsMol[x].GetProp(\"SMILES\"))\n",
    "        Atom_list.append(dsMol[x].GetProp(\"MOLECULAR_WEIGHT\"))\n",
    "        Atom_list.append(dsMol[x].GetProp(\"JCHEM_LOGP\"))\n",
    "        Atom_list.append(dsMol[x].GetProp(\"JCHEM_ACCEPTOR_COUNT\"))\n",
    "        Atom_list.append(dsMol[x].GetProp(\"JCHEM_DONOR_COUNT\"))\n",
    "        Atom_list.append(dsMol[x].GetProp(\"FORMULA\"))\n",
    "        Atom_list.append(dsMol[x].GetProp(\"JCHEM_ROTATABLE_BOND_COUNT\"))\n",
    "        Atom_list.append(dsMol[x].GetProp(\"JCHEM_NUMBER_OF_RINGS\"))\n",
    "        Atom_list.append(dsMol[x].GetProp(\"JCHEM_POLAR_SURFACE_AREA\"))\n",
    "        index_list.append(index_guide)\n",
    "        index_guide +=1\n",
    "        \n",
    "    # elif dsMol[x] is None:\n",
    "    #     valor_falso = x\n",
    "    #     print(valor_falso)\n",
    "    #     pass"
   ]
  },
  {
   "cell_type": "code",
   "execution_count": 66,
   "metadata": {},
   "outputs": [
    {
     "name": "stderr",
     "output_type": "stream",
     "text": [
      "[14:45:25] Explicit valence for atom # 12 N, 4, is greater than permitted\n",
      "[14:45:25] ERROR: Could not sanitize molecule ending on line 86026416\n",
      "[14:45:25] ERROR: Explicit valence for atom # 12 N, 4, is greater than permitted\n"
     ]
    },
    {
     "data": {
      "text/plain": [
       "NoneType"
      ]
     },
     "execution_count": 66,
     "metadata": {},
     "output_type": "execute_result"
    }
   ],
   "source": [
    "type(dsMol[700])"
   ]
  },
  {
   "cell_type": "code",
   "execution_count": 12,
   "metadata": {},
   "outputs": [],
   "source": [
    "df1 = pd.DataFrame(index = index_list, data = Atom_list, columns= column_names)\n",
    "print(df1)"
   ]
  },
  {
   "cell_type": "code",
   "execution_count": 51,
   "metadata": {},
   "outputs": [
    {
     "data": {
      "text/plain": [
       "'81.14000000000001'"
      ]
     },
     "execution_count": 51,
     "metadata": {},
     "output_type": "execute_result"
    }
   ],
   "source": [
    "m.GetProp(\"DATABASE_ID\")\n",
    "m.GetProp(\"SMILES\")\n",
    "m.GetProp(\"MOLECULAR_WEIGHT\")\n",
    "m.GetProp(\"JCHEM_LOGP\")\n",
    "m.GetProp(\"JCHEM_ACCEPTOR_COUNT\")\n",
    "m.GetProp(\"JCHEM_DONOR_COUNT\")\n",
    "m.GetProp(\"FORMULA\")\n",
    "m.GetProp(\"JCHEM_ROTATABLE_BOND_COUNT\")\n",
    "m.GetProp(\"JCHEM_NUMBER_OF_RINGS\")\n",
    "m.GetProp(\"JCHEM_POLAR_SURFACE_AREA\")"
   ]
  },
  {
   "cell_type": "code",
   "execution_count": 57,
   "metadata": {},
   "outputs": [
    {
     "name": "stderr",
     "output_type": "stream",
     "text": [
      "[14:35:37] Explicit valence for atom # 12 N, 4, is greater than permitted\n",
      "[14:35:37] ERROR: Could not sanitize molecule ending on line 71937949\n",
      "[14:35:37] ERROR: Explicit valence for atom # 12 N, 4, is greater than permitted\n"
     ]
    },
    {
     "ename": "AttributeError",
     "evalue": "'NoneType' object has no attribute 'GetPropsAsDict'",
     "output_type": "error",
     "traceback": [
      "\u001b[1;31m---------------------------------------------------------------------------\u001b[0m",
      "\u001b[1;31mAttributeError\u001b[0m                            Traceback (most recent call last)",
      "Cell \u001b[1;32mIn [57], line 2\u001b[0m\n\u001b[0;32m      1\u001b[0m m \u001b[38;5;241m=\u001b[39m dsMol[\u001b[38;5;241m700\u001b[39m]\n\u001b[1;32m----> 2\u001b[0m \u001b[43mm\u001b[49m\u001b[38;5;241;43m.\u001b[39;49m\u001b[43mGetPropsAsDict\u001b[49m()\n",
      "\u001b[1;31mAttributeError\u001b[0m: 'NoneType' object has no attribute 'GetPropsAsDict'"
     ]
    }
   ],
   "source": [
    "m = dsMol[700]\n",
    "m.GetPropsAsDict()"
   ]
  },
  {
   "cell_type": "code",
   "execution_count": 24,
   "metadata": {},
   "outputs": [
    {
     "ename": "NameError",
     "evalue": "name 'GetAtomicNum' is not defined",
     "output_type": "error",
     "traceback": [
      "\u001b[1;31m---------------------------------------------------------------------------\u001b[0m",
      "\u001b[1;31mNameError\u001b[0m                                 Traceback (most recent call last)",
      "Cell \u001b[1;32mIn [24], line 1\u001b[0m\n\u001b[1;32m----> 1\u001b[0m \u001b[43mGetAtomicNum\u001b[49m(dsMol[\u001b[38;5;241m0\u001b[39m]\u001b[38;5;241m.\u001b[39mget())\n",
      "\u001b[1;31mNameError\u001b[0m: name 'GetAtomicNum' is not defined"
     ]
    }
   ],
   "source": [
    "GetAtomicNum(dsMol[0].get())"
   ]
  }
 ],
 "metadata": {
  "kernelspec": {
   "display_name": "Python 3.10.6 64-bit",
   "language": "python",
   "name": "python3"
  },
  "language_info": {
   "codemirror_mode": {
    "name": "ipython",
    "version": 3
   },
   "file_extension": ".py",
   "mimetype": "text/x-python",
   "name": "python",
   "nbconvert_exporter": "python",
   "pygments_lexer": "ipython3",
   "version": "3.10.6"
  },
  "orig_nbformat": 4,
  "vscode": {
   "interpreter": {
    "hash": "c453250435e10cff66b2a8c67ad640328f149593ad4837f533efbfbc5ede14b8"
   }
  }
 },
 "nbformat": 4,
 "nbformat_minor": 2
}
