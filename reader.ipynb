{
 "cells": [
  {
   "cell_type": "markdown",
   "metadata": {},
   "source": []
  },
  {
   "cell_type": "code",
   "execution_count": 22,
   "metadata": {},
   "outputs": [],
   "source": [
    "# Importing some important libraries\n",
    "from rdkit import Chem\n",
    "import rdkit\n",
    "import pandas as pd\n",
    "from types import NoneType\n",
    "from IPython.utils import io"
   ]
  },
  {
   "cell_type": "code",
   "execution_count": 29,
   "metadata": {},
   "outputs": [],
   "source": [
    "# Reading an archive .sdf in python\n",
    "dsMol = Chem.SDMolSupplier('structures.sdf')"
   ]
  },
  {
   "cell_type": "code",
   "execution_count": 30,
   "metadata": {},
   "outputs": [],
   "source": [
    "ID_List = []\n",
    "SMILES_List = []\n",
    "Molecular_wheight = []\n",
    "index_list = []\n",
    "column_names = [\"Atom_num\"]"
   ]
  },
  {
   "cell_type": "code",
   "execution_count": null,
   "metadata": {},
   "outputs": [],
   "source": [
    "# %%capture\n",
    "#\n",
    "# Adicionar outras listas além do Atom_list\n",
    "#\n",
    "\n",
    "def myFunction():\n",
    "    # with io.capture_output() as captured:\n",
    "        for x in range(len(dsMol)):\n",
    "            if type(dsMol[x]) != NoneType:\n",
    "                print(x)\n",
    "                ID_List.append(dsMol[x].GetProp(\"DATABASE_ID\"))\n",
    "                SMILES_List.append(dsMol[x].GetProp(\"SMILES\"))\n",
    "                Molecular_wheight.append(dsMol[x].GetProp(\"MOLECULAR_WEIGHT\"))\n",
    "            else:\n",
    "            # print(x, type(dsMol[x]))\n",
    "                pass\n",
    "\n",
    "index_guide = 0\n",
    "\n",
    "try:\n",
    "    myFunction()\n",
    "except: \n",
    "    print(f\"O elemento num {x} não tem um dos elementos mandatórios\")\n",
    "        \n",
    "        "
   ]
  },
  {
   "cell_type": "code",
   "execution_count": null,
   "metadata": {},
   "outputs": [],
   "source": [
    "# Atom_list.append(dsMol[x].GetProp(\"JCHEM_LOGP\"))\n",
    "# Atom_list.append(dsMol[x].GetProp(\"JCHEM_ACCEPTOR_COUNT\"))\n",
    "# Atom_list.append(dsMol[x].GetProp(\"JCHEM_DONOR_COUNT\"))\n",
    "# Atom_list.append(dsMol[x].GetProp(\"FORMULA\"))\n",
    "# Atom_list.append(dsMol[x].GetProp(\"JCHEM_ROTATABLE_BOND_COUNT\"))\n",
    "# Atom_list.append(ds  Mol[x].GetProp(\"JCHEM_NUMBER_OF_RINGS\"))\n",
    "# Atom_list.append(dsMol[x].GetProp(\"JCHEM_POLAR_SURFACE_AREA\"))\n",
    "# index_list.append(index_guide)"
   ]
  },
  {
   "cell_type": "code",
   "execution_count": null,
   "metadata": {},
   "outputs": [],
   "source": [
    "Molecular_wheight"
   ]
  },
  {
   "cell_type": "code",
   "execution_count": 16,
   "metadata": {},
   "outputs": [
    {
     "data": {
      "text/plain": [
       "rdkit.Chem.rdchem.Mol"
      ]
     },
     "execution_count": 16,
     "metadata": {},
     "output_type": "execute_result"
    }
   ],
   "source": [
    "type(dsMol[994])\n"
   ]
  },
  {
   "cell_type": "code",
   "execution_count": null,
   "metadata": {},
   "outputs": [],
   "source": [
    "dsMol[994]"
   ]
  },
  {
   "cell_type": "code",
   "execution_count": null,
   "metadata": {},
   "outputs": [],
   "source": [
    "df1 = pd.DataFrame(index = index_list, data = Atom_list, columns= column_names)\n",
    "print(df1)"
   ]
  },
  {
   "cell_type": "code",
   "execution_count": null,
   "metadata": {},
   "outputs": [
    {
     "data": {
      "text/plain": [
       "'81.14000000000001'"
      ]
     },
     "execution_count": 51,
     "metadata": {},
     "output_type": "execute_result"
    }
   ],
   "source": [
    "m.GetProp(\"DATABASE_ID\")\n",
    "m.GetProp(\"SMILES\")\n",
    "m.GetProp(\"MOLECULAR_WEIGHT\")\n",
    "m.GetProp(\"JCHEM_LOGP\")\n",
    "m.GetProp(\"JCHEM_ACCEPTOR_COUNT\")\n",
    "m.GetProp(\"JCHEM_DONOR_COUNT\")\n",
    "m.GetProp(\"FORMULA\")\n",
    "m.GetProp(\"JCHEM_ROTATABLE_BOND_COUNT\")\n",
    "m.GetProp(\"JCHEM_NUMBER_OF_RINGS\")\n",
    "m.GetProp(\"JCHEM_POLAR_SURFACE_AREA\")"
   ]
  },
  {
   "cell_type": "code",
   "execution_count": null,
   "metadata": {},
   "outputs": [],
   "source": [
    "m = dsMol[700]\n",
    "m.GetPropsAsDict()"
   ]
  },
  {
   "cell_type": "code",
   "execution_count": null,
   "metadata": {},
   "outputs": [],
   "source": [
    "GetAtomicNum(dsMol[0].get())"
   ]
  }
 ],
 "metadata": {
  "kernelspec": {
   "display_name": "Python 3.10.6 64-bit",
   "language": "python",
   "name": "python3"
  },
  "language_info": {
   "codemirror_mode": {
    "name": "ipython",
    "version": 3
   },
   "file_extension": ".py",
   "mimetype": "text/x-python",
   "name": "python",
   "nbconvert_exporter": "python",
   "pygments_lexer": "ipython3",
   "version": "3.10.6"
  },
  "orig_nbformat": 4,
  "vscode": {
   "interpreter": {
    "hash": "c453250435e10cff66b2a8c67ad640328f149593ad4837f533efbfbc5ede14b8"
   }
  }
 },
 "nbformat": 4,
 "nbformat_minor": 2
}
